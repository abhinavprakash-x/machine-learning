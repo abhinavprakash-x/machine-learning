{
 "cells": [
  {
   "cell_type": "code",
   "execution_count": 1,
   "id": "74374aa4",
   "metadata": {},
   "outputs": [],
   "source": [
    "import numpy as np\n",
    "import pandas as pd\n",
    "import matplotlib.pyplot as plt\n",
    "import math,copy"
   ]
  },
  {
   "cell_type": "code",
   "execution_count": null,
   "id": "cb8f11e3",
   "metadata": {},
   "outputs": [
    {
     "name": "stdout",
     "output_type": "stream",
     "text": [
      "X shape: (102, 5)\n",
      "Y shape: (102, 1)\n"
     ]
    }
   ],
   "source": [
    "df = pd.read_csv('student_dataset.csv')\n",
    "x_train = df[['Hours of Study','Previous Exam %','IQ','Attendance %','Average Quiz Score']].to_numpy()\n",
    "y_train = df['Exam Result'].to_numpy().reshape(-1,1)\n",
    "print(f\"X shape: {x_train.shape}\")\n",
    "print(f\"Y shape: {y_train.shape}\")"
   ]
  },
  {
   "cell_type": "code",
   "execution_count": 13,
   "id": "b4380de8",
   "metadata": {},
   "outputs": [],
   "source": [
    "def sigmoid(z):\n",
    "    g = 1/(1+np.exp(-z))\n",
    "    return g"
   ]
  },
  {
   "cell_type": "code",
   "execution_count": 11,
   "id": "ac532556",
   "metadata": {},
   "outputs": [],
   "source": [
    "def z_score_normalization(x):\n",
    "    mu = np.mean(x,axis=0)\n",
    "    sigma = np.std(x,axis=0)\n",
    "    x_norm = (x-mu)/sigma\n",
    "    return x_norm"
   ]
  },
  {
   "cell_type": "code",
   "execution_count": 29,
   "id": "63d676f7",
   "metadata": {},
   "outputs": [],
   "source": [
    "x_train = z_score_normalization(x_train)"
   ]
  },
  {
   "cell_type": "code",
   "execution_count": 30,
   "id": "7cfbc829",
   "metadata": {},
   "outputs": [],
   "source": [
    "def compute_logistic_cost_reg(x,y,w,b,lambdaa):\n",
    "    m,n = x.shape\n",
    "    cost = 0.0\n",
    "    reg_cost = 0.0\n",
    "    for i in range(m):\n",
    "        z_i = np.dot(x[i],w)+b\n",
    "        f_wb_i = sigmoid(z_i)\n",
    "        cost += ((f_wb_i - y[i])**2)\n",
    "    cost = cost/(2*m)\n",
    "    for j in range(n):\n",
    "        reg_cost += (w[j]**2)\n",
    "    reg_cost = (lambdaa/(2*m))*reg_cost\n",
    "    reg_cost = cost + reg_cost\n",
    "    return reg_cost"
   ]
  },
  {
   "cell_type": "code",
   "execution_count": 18,
   "id": "e9023715",
   "metadata": {},
   "outputs": [],
   "source": [
    "def compute_logistic_gradient_reg(x,y,w,b,lambdaa):\n",
    "    m,n=x.shape\n",
    "    loss = 0.0\n",
    "    dj_dw = np.zeros((n,))\n",
    "    dj_db = 0.\n",
    "    for i in range(m):\n",
    "        f_wb_i = sigmoid(np.dot(x[i],w)+b)\n",
    "        err_i = f_wb_i - y[i]\n",
    "        for j in range(n):\n",
    "            dj_dw[j] += (err_i.item() * x[i, j].item())\n",
    "        dj_db += err_i\n",
    "    dj_dw /= m\n",
    "    dj_db /= m\n",
    "    for j in range(n):\n",
    "        dj_dw[j] += ((lambdaa/m)*w[j])\n",
    "    return dj_db,dj_dw"
   ]
  },
  {
   "cell_type": "code",
   "execution_count": 16,
   "id": "493b0f2a",
   "metadata": {},
   "outputs": [],
   "source": [
    "def gradient_descent_reg(x,y,w_in,b_in,alpha,num_iters):\n",
    "    j_history = []\n",
    "    w = copy.deepcopy(w_in)\n",
    "    b = b_in\n",
    "    for i in range(num_iters):\n",
    "        dj_db,dj_dw = compute_logistic_gradient_reg(x,y,w,b,0.7)\n",
    "        w = w - alpha * dj_dw\n",
    "        b = b - alpha * dj_db\n",
    "        j_history.append(compute_logistic_cost_reg(x,y,w,b,0.7))\n",
    "        if i%math.ceil(num_iters/10)==0:\n",
    "            print(f\"Iterations: {i}, Cost: {j_history[-1]}\")\n",
    "    return w,b,j_history"
   ]
  },
  {
   "cell_type": "code",
   "execution_count": 31,
   "id": "aaf94420",
   "metadata": {},
   "outputs": [
    {
     "name": "stdout",
     "output_type": "stream",
     "text": [
      "dj_db: [0.07945318] \n",
      "dj_dw: [-0.34391301605079727, -0.36487328730809104, -0.3426997465381249, -0.34778788904293145, -0.3504115281067864]\n",
      "Iterations: 0, Cost: [0.09608153]\n",
      "Iterations: 1000, Cost: [0.04027916]\n",
      "Iterations: 2000, Cost: [0.03030988]\n",
      "Iterations: 3000, Cost: [0.02675738]\n",
      "Iterations: 4000, Cost: [0.02513996]\n",
      "Iterations: 5000, Cost: [0.02434578]\n",
      "Iterations: 6000, Cost: [0.02397102]\n",
      "Iterations: 7000, Cost: [0.02383441]\n",
      "Iterations: 8000, Cost: [0.02384284]\n",
      "Iterations: 9000, Cost: [0.02394381]\n",
      "Values of weight and bias: [0.73476259 0.43728523 1.09129179 1.06772456 0.57587677],[0.29201217]\n"
     ]
    }
   ],
   "source": [
    "w_tmp = np.random.rand(x_train.shape[1]).reshape(-1,)-0.5\n",
    "b_tmp = 0.5\n",
    "lambda_tmp = 0.7\n",
    "dj_db_tmp,dj_dw_tmp = compute_logistic_gradient_reg(x_train,y_train,w_tmp,b_tmp,lambda_tmp)\n",
    "print(f\"dj_db: {dj_db_tmp} \\ndj_dw: {dj_dw_tmp.tolist()}\")\n",
    "w_out, b_out,j_history = gradient_descent_reg(x_train,y_train,w_tmp,b_tmp,0.001,10000)\n",
    "print(f\"Values of weight and bias: {w_out},{b_out}\")"
   ]
  },
  {
   "cell_type": "code",
   "execution_count": 32,
   "id": "21fadc8a",
   "metadata": {},
   "outputs": [],
   "source": [
    "def predict(x, w, b):\n",
    "    z = np.dot(x, w) + b\n",
    "    prob = sigmoid(z)\n",
    "    return 1 if prob >= 0.5 else 0, prob"
   ]
  },
  {
   "cell_type": "code",
   "execution_count": 34,
   "id": "ff43e035",
   "metadata": {},
   "outputs": [
    {
     "name": "stdout",
     "output_type": "stream",
     "text": [
      "Prediction: Pass\n",
      "Probability of Passing the Exam: [0.66539536]\n"
     ]
    }
   ],
   "source": [
    "new_student = np.array([3,71,102,93,94])\n",
    "new_student = z_score_normalization(new_student)\n",
    "prediction, prob = predict(new_student,w_out,b_out)\n",
    "print(f\"Prediction: {'Pass' if prediction==1 else 'Fail'}\")\n",
    "print(f\"Probability of Passing the Exam: {prob}\")"
   ]
  }
 ],
 "metadata": {
  "kernelspec": {
   "display_name": "Python 3",
   "language": "python",
   "name": "python3"
  },
  "language_info": {
   "codemirror_mode": {
    "name": "ipython",
    "version": 3
   },
   "file_extension": ".py",
   "mimetype": "text/x-python",
   "name": "python",
   "nbconvert_exporter": "python",
   "pygments_lexer": "ipython3",
   "version": "3.13.2"
  }
 },
 "nbformat": 4,
 "nbformat_minor": 5
}
