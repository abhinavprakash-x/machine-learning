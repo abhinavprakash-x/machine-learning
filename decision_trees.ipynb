{
 "cells": [
  {
   "cell_type": "code",
   "execution_count": 3,
   "id": "6f794c35",
   "metadata": {},
   "outputs": [],
   "source": [
    "import sklearn\n",
    "import numpy as np\n",
    "from sklearn.datasets import load_breast_cancer"
   ]
  },
  {
   "cell_type": "code",
   "execution_count": 5,
   "id": "ff0d290b",
   "metadata": {},
   "outputs": [
    {
     "name": "stdout",
     "output_type": "stream",
     "text": [
      "X shape: (569, 30)\n",
      "y shape: (569,)\n",
      "Training Examples: 569\n"
     ]
    }
   ],
   "source": [
    "data = load_breast_cancer()\n",
    "X = data.data\n",
    "y = data.target\n",
    "print(f\"X shape: {X.shape}\")\n",
    "print(f\"y shape: {y.shape}\")\n",
    "m = len(X)\n",
    "print(f\"Training Examples: {m}\")"
   ]
  },
  {
   "cell_type": "code",
   "execution_count": 7,
   "id": "048b99d1",
   "metadata": {},
   "outputs": [],
   "source": [
    "def H(p):\n",
    "    if p==0 or p==1:\n",
    "        return 0\n",
    "    H_p = -p*np.log2(p)-((1-p)*np.log2(1-p))\n",
    "    return H_p"
   ]
  },
  {
   "cell_type": "code",
   "execution_count": 8,
   "id": "f2571110",
   "metadata": {},
   "outputs": [],
   "source": [
    "def compute_entropy(y):\n",
    "    p1 = np.mean(y==1)\n",
    "    return H(p1)"
   ]
  },
  {
   "cell_type": "code",
   "execution_count": 9,
   "id": "3d1ba159",
   "metadata": {},
   "outputs": [
    {
     "name": "stdout",
     "output_type": "stream",
     "text": [
      "Entropy of Root Node: 0.9526351224018599\n"
     ]
    }
   ],
   "source": [
    "print(f\"Entropy of Root Node: {compute_entropy(y)}\")"
   ]
  },
  {
   "cell_type": "code",
   "execution_count": 24,
   "id": "ee72df74",
   "metadata": {},
   "outputs": [],
   "source": [
    "def split_dataset(X,node_indices,feature,threshold):\n",
    "    left_indices = []\n",
    "    right_indices = []\n",
    "    for i in node_indices:\n",
    "        if(X[i][feature] <= threshold):\n",
    "            left_indices.append(i)\n",
    "        else:\n",
    "            right_indices.append(i)\n",
    "    return left_indices,right_indices"
   ]
  },
  {
   "cell_type": "code",
   "execution_count": 26,
   "id": "eefed821",
   "metadata": {},
   "outputs": [
    {
     "name": "stdout",
     "output_type": "stream",
     "text": [
      "Left Indice: [3, 5, 7, 8, 9, 540, 543, 545]\n",
      "Right Indice: [0, 1, 2, 4, 6, 541, 542, 544]\n"
     ]
    }
   ],
   "source": [
    "root_indices = [0,1,2,3,4,5,6,7,8,9,540,541,542,543,544,545]\n",
    "feature = 0\n",
    "threshold = np.median(X[root_indices, feature])\n",
    "left_indices, right_indices = split_dataset(X, root_indices, feature, threshold)\n",
    "print(f\"Left Indice: {left_indices}\")\n",
    "print(f\"Right Indice: {right_indices}\")"
   ]
  },
  {
   "cell_type": "code",
   "execution_count": 29,
   "id": "ebf7c9c4",
   "metadata": {},
   "outputs": [],
   "source": [
    "def compute_information_gain(X,y,node_indices,feature,threshold):\n",
    "    left_indices, right_indices = split_dataset(X,node_indices,feature,threshold)\n",
    "    y_node = y[node_indices]\n",
    "    y_left = y[left_indices]\n",
    "    y_right = y[right_indices]\n",
    "    information_gain = 0\n",
    "    root_entropy = compute_entropy(y_node)\n",
    "    left_entropy = compute_entropy(y_left)\n",
    "    right_entropy = compute_entropy(y_right)\n",
    "    w_left = len(y_left) / len(y_node)\n",
    "    w_right = len(y_right) / len(y_node)\n",
    "    weighted_entropy = w_left*left_entropy + w_right*right_entropy\n",
    "    information_gain = root_entropy - weighted_entropy\n",
    "    return information_gain"
   ]
  },
  {
   "cell_type": "code",
   "execution_count": 30,
   "id": "2d532d85",
   "metadata": {},
   "outputs": [
    {
     "name": "stdout",
     "output_type": "stream",
     "text": [
      "Information Gain: 0.05189916032131564\n"
     ]
    }
   ],
   "source": [
    "root_indices = list(range(20))  # just first 20 samples\n",
    "feature = 0\n",
    "threshold = np.median(X[root_indices, feature])\n",
    "\n",
    "ig = compute_information_gain(X, y, root_indices, feature, threshold)\n",
    "print(\"Information Gain:\", ig)"
   ]
  },
  {
   "cell_type": "code",
   "execution_count": 35,
   "id": "18252244",
   "metadata": {},
   "outputs": [],
   "source": [
    "def best_split(X, y, node_indices):\n",
    "    best_feature = None\n",
    "    best_threshold = None\n",
    "    best_ig = -1\n",
    "    \n",
    "    n_features = X.shape[1]\n",
    "    for feature in range(n_features):\n",
    "        values = X[node_indices, feature]\n",
    "        unique_values = np.unique(values)\n",
    "\n",
    "        if len(values) == 1:\n",
    "            continue\n",
    "        thresholds = (unique_values[:-1] + unique_values[1:]) / 2.0\n",
    "\n",
    "        for threshold in thresholds:\n",
    "            ig = compute_information_gain(X, y, node_indices, feature, threshold)\n",
    "            \n",
    "            if ig > best_ig:\n",
    "                best_ig = ig\n",
    "                best_feature = feature\n",
    "                best_threshold = threshold\n",
    "    \n",
    "    return best_feature, best_threshold, best_ig\n"
   ]
  },
  {
   "cell_type": "code",
   "execution_count": 36,
   "id": "c09391ff",
   "metadata": {},
   "outputs": [
    {
     "name": "stdout",
     "output_type": "stream",
     "text": [
      "Best feature: 6\n",
      "Best threshold: 0.070295\n",
      "Information gain: 0.36082517699473016\n"
     ]
    }
   ],
   "source": [
    "root_indices = list(range(30))  # small subset of samples\n",
    "feature, threshold, ig = best_split(X, y, root_indices)\n",
    "\n",
    "print(\"Best feature:\", feature)\n",
    "print(\"Best threshold:\", threshold)\n",
    "print(\"Information gain:\", ig)"
   ]
  },
  {
   "cell_type": "code",
   "execution_count": 38,
   "id": "94bc86a1",
   "metadata": {},
   "outputs": [],
   "source": [
    "def build_tree_recursive(X, y, node_indices, branch, max_depth, current_depth=0):\n",
    "    y_node = y[node_indices]\n",
    "    \n",
    "    # Stopping condition 1: max depth reached\n",
    "    if current_depth == max_depth:\n",
    "        print(\"  \" * current_depth + f\"- {branch} leaf node with indices {node_indices}\")\n",
    "        return {\"type\": \"leaf\", \"class\": int(np.bincount(y_node).argmax())}\n",
    "    \n",
    "    # Stopping condition 2: pure node (all labels same)\n",
    "    if np.all(y_node == y_node[0]):\n",
    "        print(\"  \" * current_depth + f\"- {branch} pure leaf with class {y_node[0]}\")\n",
    "        return {\"type\": \"leaf\", \"class\": int(y_node[0])}\n",
    "    \n",
    "    # Find best split\n",
    "    best_feature, best_threshold, best_ig = best_split(X, y, node_indices)\n",
    "    \n",
    "    # Stopping condition 3: no information gain\n",
    "    if best_feature is None or best_ig <= 0:\n",
    "        print(\"  \" * current_depth + f\"- {branch} leaf (no gain) with indices {node_indices}\")\n",
    "        return {\"type\": \"leaf\", \"class\": int(np.bincount(y_node).argmax())}\n",
    "    \n",
    "    print(\"  \" * current_depth + f\"- Depth {current_depth}, {branch}: Split on feature {best_feature} at threshold {best_threshold:.3f}\")\n",
    "    \n",
    "    # Split dataset\n",
    "    left_indices, right_indices = split_dataset(X, node_indices, best_feature, best_threshold)\n",
    "    \n",
    "    # Build subtrees\n",
    "    left_subtree = build_tree_recursive(X, y, left_indices, \"Left\", max_depth, current_depth+1)\n",
    "    right_subtree = build_tree_recursive(X, y, right_indices, \"Right\", max_depth, current_depth+1)\n",
    "    \n",
    "    # Return decision node\n",
    "    return {\n",
    "        \"type\": \"node\",\n",
    "        \"feature\": best_feature,\n",
    "        \"threshold\": best_threshold,\n",
    "        \"left\": left_subtree,\n",
    "        \"right\": right_subtree\n",
    "    }\n"
   ]
  },
  {
   "cell_type": "code",
   "execution_count": 39,
   "id": "fc2ff972",
   "metadata": {},
   "outputs": [
    {
     "name": "stdout",
     "output_type": "stream",
     "text": [
      "- Depth 0, Root: Split on feature 6 at threshold 0.070\n",
      "  - Depth 1, Left: Split on feature 0 at threshold 14.780\n",
      "    - Left pure leaf with class 1\n",
      "    - Right pure leaf with class 0\n",
      "  - Right pure leaf with class 0\n"
     ]
    }
   ],
   "source": [
    "root_indices = list(range(20))\n",
    "tree = build_tree_recursive(X, y, root_indices, \"Root\", max_depth=3)"
   ]
  },
  {
   "cell_type": "code",
   "execution_count": 40,
   "id": "d76acd2a",
   "metadata": {},
   "outputs": [],
   "source": [
    "def predict_sample(tree, x):\n",
    "    if tree[\"type\"] == \"leaf\":\n",
    "        return tree[\"class\"]\n",
    "    \n",
    "    # Decision node\n",
    "    feature = tree[\"feature\"]\n",
    "    threshold = tree[\"threshold\"]\n",
    "    \n",
    "    if x[feature] <= threshold:\n",
    "        return predict_sample(tree[\"left\"], x)\n",
    "    else:\n",
    "        return predict_sample(tree[\"right\"], x)"
   ]
  },
  {
   "cell_type": "code",
   "execution_count": 41,
   "id": "66e54ecb",
   "metadata": {},
   "outputs": [],
   "source": [
    "def predict(tree, X):\n",
    "    return np.array([predict_sample(tree, x) for x in X])"
   ]
  },
  {
   "cell_type": "code",
   "execution_count": 42,
   "id": "b1e1a57b",
   "metadata": {},
   "outputs": [
    {
     "name": "stdout",
     "output_type": "stream",
     "text": [
      "- Depth 0, Root: Split on feature 7 at threshold 0.051\n",
      "  - Depth 1, Left: Split on feature 20 at threshold 16.830\n",
      "    - Depth 2, Left: Split on feature 10 at threshold 0.626\n",
      "      - Left leaf node with indices [0, 2, 3, 4, 7, 8, 10, 13, 14, 18, 19, 23, 26, 28, 29, 31, 35, 37, 38, 39, 40, 43, 44, 45, 46, 47, 48, 49, 51, 52, 53, 54, 56, 57, 58, 60, 61, 63, 64, 66, 67, 68, 72, 73, 75, 77, 78, 79, 80, 82, 83, 85, 86, 87, 89, 92, 93, 94, 96, 97, 98, 99, 101, 102, 103, 104, 105, 107, 110, 111, 113, 114, 115, 116, 117, 118, 119, 123, 124, 126, 127, 129, 131, 133, 135, 136, 138, 139, 140, 142, 144, 146, 148, 151, 152, 153, 154, 156, 157, 158, 160, 161, 162, 164, 166, 167, 168, 169, 170, 171, 172, 174, 175, 176, 178, 181, 182, 184, 187, 190, 194, 195, 198, 199, 201, 203, 204, 205, 209, 210, 213, 214, 216, 219, 222, 227, 228, 229, 230, 232, 237, 238, 239, 241, 242, 243, 244, 248, 250, 251, 252, 253, 254, 256, 257, 260, 262, 264, 265, 266, 267, 269, 271, 274, 275, 276, 278, 279, 282, 284, 288, 291, 295, 296, 297, 298, 299, 300, 301, 303, 304, 305, 307, 308, 311, 313, 316, 317, 319, 322, 325, 328, 330, 331, 333, 338, 339, 340, 343, 346, 348, 350, 354, 356, 358, 359, 364, 366, 367, 368, 369, 370, 371, 372, 377, 378, 379, 380, 382, 384, 385, 386, 387, 388, 392, 393, 395, 396, 401, 402, 406, 407, 411, 412, 414, 415, 416, 417, 420, 422, 423, 424, 425, 426, 427, 429, 430, 431, 432, 433, 436, 439, 440, 444, 447, 449, 450, 451, 452, 454]\n",
      "      - Right leaf node with indices [193, 197, 434]\n",
      "    - Depth 2, Right: Split on feature 1 at threshold 16.190\n",
      "      - Left leaf node with indices [20, 272, 290, 334, 405, 437]\n",
      "      - Right leaf node with indices [34, 36, 50, 62, 95, 134, 149, 177, 180, 236, 324, 329, 403]\n",
      "  - Depth 1, Right: Split on feature 22 at threshold 114.450\n",
      "    - Depth 2, Left: Split on feature 21 at threshold 25.655\n",
      "      - Left leaf node with indices [6, 24, 59, 65, 130, 163, 188, 196, 207, 223, 240, 247, 268, 277, 281, 326, 347, 355, 398, 419, 421]\n",
      "      - Right leaf node with indices [22, 30, 55, 71, 120, 141, 147, 202, 283, 310, 332, 335, 357, 360, 362, 365, 391, 394, 409, 413, 435, 441, 453]\n",
      "    - Right pure leaf with class 0\n",
      "Test Accuracy: 0.956140350877193\n"
     ]
    }
   ],
   "source": [
    "from sklearn.model_selection import train_test_split\n",
    "from sklearn.metrics import accuracy_score\n",
    "\n",
    "# Train/test split\n",
    "X_train, X_test, y_train, y_test = train_test_split(X, y, test_size=0.2, random_state=42)\n",
    "\n",
    "# Build tree (example with max depth 3)\n",
    "root_indices = list(range(len(X_train)))\n",
    "tree = build_tree_recursive(X_train, y_train, root_indices, \"Root\", max_depth=3)\n",
    "\n",
    "# Predict on test set\n",
    "y_pred = predict(tree, X_test)\n",
    "\n",
    "# Evaluate accuracy\n",
    "print(\"Test Accuracy:\", accuracy_score(y_test, y_pred))"
   ]
  },
  {
   "cell_type": "code",
   "execution_count": 44,
   "id": "40e82ce1",
   "metadata": {},
   "outputs": [
    {
     "name": "stdout",
     "output_type": "stream",
     "text": [
      "Test Accuracy: 1.0\n"
     ]
    }
   ],
   "source": [
    "from xgboost import XGBClassifier\n",
    "model = XGBClassifier()\n",
    "model.fit(X,y)\n",
    "y_pred = model.predict(X_test)\n",
    "print(\"Test Accuracy:\", accuracy_score(y_test, y_pred))"
   ]
  }
 ],
 "metadata": {
  "kernelspec": {
   "display_name": "Python 3",
   "language": "python",
   "name": "python3"
  },
  "language_info": {
   "codemirror_mode": {
    "name": "ipython",
    "version": 3
   },
   "file_extension": ".py",
   "mimetype": "text/x-python",
   "name": "python",
   "nbconvert_exporter": "python",
   "pygments_lexer": "ipython3",
   "version": "3.13.7"
  }
 },
 "nbformat": 4,
 "nbformat_minor": 5
}
